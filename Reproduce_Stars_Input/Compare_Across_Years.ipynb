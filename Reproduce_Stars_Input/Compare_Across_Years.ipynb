{
 "cells": [
  {
   "cell_type": "code",
   "execution_count": 1,
   "id": "5da92b34",
   "metadata": {},
   "outputs": [],
   "source": [
    "import pandas as pd\n",
    "import warnings\n",
    "from IPython.utils import io\n",
    "import sys\n",
    "import numpy as np\n",
    "from functools import reduce\n",
    "#import xlsxwriter\n",
    "\n",
    "from scipy.spatial import distance\n",
    "\n",
    "warnings.filterwarnings('ignore')\n",
    "pd.set_option('display.max_columns', None)\n",
    "pd.set_option('display.max_rows', None)\n",
    "\n",
    "stars_dir = '~/GitHub/stars-data-builder/'\n"
   ]
  },
  {
   "cell_type": "markdown",
   "id": "968bef31",
   "metadata": {},
   "source": [
    "# 2021 vs 2022"
   ]
  },
  {
   "cell_type": "code",
   "execution_count": 9,
   "id": "376080c1",
   "metadata": {},
   "outputs": [
    {
     "name": "stdout",
     "output_type": "stream",
     "text": [
      "['1', '333', '444', '222']\n"
     ]
    }
   ],
   "source": [
    "prvdrs_2021 = ['1', '222', '333', '444']\n",
    "prvdrs_2022 = ['222', '1', '333', '444']\n",
    "\n",
    "hosps = list(set(prvdrs_2021) & set(prvdrs_2022))\n",
    "print(hosps)\n",
    "\n",
    "if prvdrs_2021 == prvdrs_2022:\n",
    "    print('prvdrs_2021 == prvdrs_2022')"
   ]
  },
  {
   "cell_type": "code",
   "execution_count": 11,
   "id": "ffee5f6d",
   "metadata": {
    "scrolled": false
   },
   "outputs": [
    {
     "name": "stdout",
     "output_type": "stream",
     "text": [
      "prvdrs_2021 == prvdrs_2022\n",
      "3107 hospitals had star ratings in 2021 and 2022.\n",
      "Of these 1167 experienced changes in their star ratings (37.56% )\n"
     ]
    }
   ],
   "source": [
    "df_2021 = pd.read_csv(stars_dir + '2021/2021-04 Stars Release/SAS_CSV_output/CMS_Stars_Apr_2021.csv')\n",
    "df_2022 = pd.read_csv(stars_dir + '2022/2022-07 Stars Release/SAS_CSV_output/CMS_Stars_Jul_2022.csv')\n",
    "\n",
    "df_2021 = df_2021[df_2021['star'].isin([1,2,3,4,5])]\n",
    "df_2022 = df_2022[df_2022['star'].isin([1,2,3,4,5])]\n",
    "\n",
    "prvdrs_2021 = df_2021['PROVIDER_ID'].tolist()\n",
    "prvdrs_2022 = df_2022['PROVIDER_ID'].tolist()\n",
    "\n",
    "hosps = list(set(prvdrs_2021) & set(prvdrs_2022))\n",
    "df_2021 = df_2021[df_2021['PROVIDER_ID'].isin(hosps)]\n",
    "df_2022 = df_2022[df_2022['PROVIDER_ID'].isin(hosps)]\n",
    "\n",
    "df_2021.sort_values(by=['PROVIDER_ID'], inplace=True, ascending=True)\n",
    "df_2022.sort_values(by=['PROVIDER_ID'], inplace=True, ascending=True)\n",
    "\n",
    "prvdrs_2021 = df_2021['PROVIDER_ID'].tolist()\n",
    "prvdrs_2022 = df_2022['PROVIDER_ID'].tolist()\n",
    "\n",
    "if prvdrs_2021 == prvdrs_2022:\n",
    "    print('prvdrs_2021 == prvdrs_2022')\n",
    "\n",
    "    T_diff = 0\n",
    "    T_same = 0\n",
    "    \n",
    "    stars_2021 = df_2021['star'].tolist()\n",
    "    stars_2022 = df_2022['star'].tolist()\n",
    "    for i, star_2021 in enumerate(stars_2021):\n",
    "        star_2022 = stars_2022[i]\n",
    "        \n",
    "        if star_2021 != star_2022:\n",
    "            T_diff += 1\n",
    "        elif star_2021 == star_2022:\n",
    "            T_same += 1\n",
    "            \n",
    "print(T_diff+T_same, 'hospitals had star ratings in 2021 and 2022.')\n",
    "p_changed = round(100*T_diff/(T_diff+T_same), 2)\n",
    "print('Of these', T_diff, 'experienced changes in their star ratings (' + f'{p_changed:.2f}% )')\n"
   ]
  },
  {
   "cell_type": "markdown",
   "id": "bced1c48",
   "metadata": {},
   "source": [
    "# 2022 vs 2023"
   ]
  },
  {
   "cell_type": "code",
   "execution_count": 22,
   "id": "2cbce893",
   "metadata": {},
   "outputs": [
    {
     "name": "stdout",
     "output_type": "stream",
     "text": [
      "prvdrs_2022 == prvdrs_2023\n",
      "2887 hospitals had star ratings in 2022 and 2023.\n",
      "Of these 1506 experienced changes in their star ratings (52.16% )\n"
     ]
    }
   ],
   "source": [
    "df_2022 = pd.read_csv(stars_dir + '2022/2022-07 Stars Release/SAS_CSV_output/CMS_Stars_Jul_2022.csv')\n",
    "\n",
    "prvdrs_2022 = []\n",
    "for p in df_2022['PROVIDER_ID'].tolist():\n",
    "    p = str(p)\n",
    "    while len(p) < 6:\n",
    "        p = '0' + p    \n",
    "    prvdrs_2022.append(p)    \n",
    "df_2022['PROVIDER_ID'] = prvdrs_2022\n",
    "\n",
    "df_2023 = pd.read_csv(stars_dir + '2023/2023-07 Stars Release/SAS_CSV_output/CMS_Stars_Jul_2023.csv')\n",
    "\n",
    "df_2023 = df_2023[df_2023['star'].isin([1,2,3,4,5])]\n",
    "df_2022 = df_2022[df_2022['star'].isin([1,2,3,4,5])]\n",
    "\n",
    "prvdrs_2023 = df_2023['PROVIDER_ID'].tolist()\n",
    "prvdrs_2022 = df_2022['PROVIDER_ID'].tolist()\n",
    "\n",
    "hosps = list(set(prvdrs_2023) & set(prvdrs_2022))\n",
    "df_2023 = df_2023[df_2023['PROVIDER_ID'].isin(hosps)]\n",
    "df_2022 = df_2022[df_2022['PROVIDER_ID'].isin(hosps)]\n",
    "\n",
    "df_2023.sort_values(by=['PROVIDER_ID'], inplace=True, ascending=True)\n",
    "df_2022.sort_values(by=['PROVIDER_ID'], inplace=True, ascending=True)\n",
    "\n",
    "prvdrs_2023 = df_2023['PROVIDER_ID'].tolist()\n",
    "prvdrs_2022 = df_2022['PROVIDER_ID'].tolist()\n",
    "\n",
    "if prvdrs_2023 == prvdrs_2022:\n",
    "    print('prvdrs_2022 == prvdrs_2023')\n",
    "\n",
    "    T_diff = 0\n",
    "    T_same = 0\n",
    "    \n",
    "    stars_2023 = df_2023['star'].tolist()\n",
    "    stars_2022 = df_2022['star'].tolist()\n",
    "    for i, star_2023 in enumerate(stars_2023):\n",
    "        star_2022 = stars_2022[i]\n",
    "        \n",
    "        if star_2023 != star_2022:\n",
    "            T_diff += 1\n",
    "        elif star_2023 == star_2022:\n",
    "            T_same += 1\n",
    "            \n",
    "print(T_diff+T_same, 'hospitals had star ratings in 2022 and 2023.')\n",
    "p_changed = round(100*T_diff/(T_diff+T_same), 2)\n",
    "print('Of these', T_diff, 'experienced changes in their star ratings (' + f'{p_changed:.2f}% )')\n"
   ]
  },
  {
   "cell_type": "code",
   "execution_count": 23,
   "id": "23015aec",
   "metadata": {},
   "outputs": [
    {
     "name": "stdout",
     "output_type": "stream",
     "text": [
      "prvdrs_2023 == prvdrs_2024\n",
      "2811 hospitals had star ratings in 2023 and 2024.\n",
      "Of these 1379 experienced changes in their star ratings (49.06% )\n"
     ]
    }
   ],
   "source": [
    "df_2024 = pd.read_csv(stars_dir + '2024/2024-07 Stars Release/SAS_CSV_output/CMS_Stars_Jul_2024.csv')\n",
    "df_2023 = pd.read_csv(stars_dir + '2023/2023-07 Stars Release/SAS_CSV_output/CMS_Stars_Jul_2023.csv')\n",
    "\n",
    "df_2023 = df_2023[df_2023['star'].isin([1,2,3,4,5])]\n",
    "df_2024 = df_2024[df_2024['star'].isin([1,2,3,4,5])]\n",
    "\n",
    "prvdrs_2023 = df_2023['PROVIDER_ID'].tolist()\n",
    "prvdrs_2024 = df_2024['PROVIDER_ID'].tolist()\n",
    "\n",
    "hosps = list(set(prvdrs_2023) & set(prvdrs_2024))\n",
    "df_2023 = df_2023[df_2023['PROVIDER_ID'].isin(hosps)]\n",
    "df_2024 = df_2024[df_2024['PROVIDER_ID'].isin(hosps)]\n",
    "\n",
    "df_2023.sort_values(by=['PROVIDER_ID'], inplace=True, ascending=True)\n",
    "df_2024.sort_values(by=['PROVIDER_ID'], inplace=True, ascending=True)\n",
    "\n",
    "prvdrs_2023 = df_2023['PROVIDER_ID'].tolist()\n",
    "prvdrs_2024 = df_2024['PROVIDER_ID'].tolist()\n",
    "\n",
    "if prvdrs_2023 == prvdrs_2024:\n",
    "    print('prvdrs_2023 == prvdrs_2024')\n",
    "\n",
    "    T_diff = 0\n",
    "    T_same = 0\n",
    "    \n",
    "    stars_2023 = df_2023['star'].tolist()\n",
    "    stars_2024 = df_2024['star'].tolist()\n",
    "    for i, star_2023 in enumerate(stars_2023):\n",
    "        star_2024 = stars_2024[i]\n",
    "        \n",
    "        if star_2023 != star_2024:\n",
    "            T_diff += 1\n",
    "        elif star_2023 == star_2024:\n",
    "            T_same += 1\n",
    "            \n",
    "print(T_diff+T_same, 'hospitals had star ratings in 2023 and 2024.')\n",
    "p_changed = round(100*T_diff/(T_diff+T_same), 2)\n",
    "print('Of these', T_diff, 'experienced changes in their star ratings (' + f'{p_changed:.2f}% )')\n"
   ]
  },
  {
   "cell_type": "code",
   "execution_count": null,
   "id": "bf8415da",
   "metadata": {},
   "outputs": [],
   "source": []
  }
 ],
 "metadata": {
  "kernelspec": {
   "display_name": "Python 3 (ipykernel)",
   "language": "python",
   "name": "python3"
  },
  "language_info": {
   "codemirror_mode": {
    "name": "ipython",
    "version": 3
   },
   "file_extension": ".py",
   "mimetype": "text/x-python",
   "name": "python",
   "nbconvert_exporter": "python",
   "pygments_lexer": "ipython3",
   "version": "3.8.0"
  }
 },
 "nbformat": 4,
 "nbformat_minor": 5
}
