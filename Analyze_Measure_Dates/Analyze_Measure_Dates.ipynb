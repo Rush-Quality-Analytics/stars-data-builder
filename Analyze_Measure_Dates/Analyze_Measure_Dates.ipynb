{
 "cells": [
  {
   "cell_type": "code",
   "execution_count": 177,
   "id": "e4ea339d",
   "metadata": {},
   "outputs": [],
   "source": [
    "import pandas as pd\n",
    "import warnings\n",
    "from IPython.utils import io\n",
    "import sys\n",
    "import numpy as np\n",
    "from functools import reduce\n",
    "\n",
    "warnings.filterwarnings('ignore')\n",
    "pd.set_option('display.max_columns', None)\n",
    "pd.set_option('display.max_rows', None)\n",
    "\n",
    "stars_dir = '~/GitHub/stars-data-builder/'"
   ]
  },
  {
   "cell_type": "markdown",
   "id": "ef98c969",
   "metadata": {},
   "source": [
    "#      \n",
    "------\n",
    "# Load files containing measure dates"
   ]
  },
  {
   "cell_type": "code",
   "execution_count": 181,
   "id": "21077534",
   "metadata": {},
   "outputs": [
    {
     "name": "stdout",
     "output_type": "stream",
     "text": [
      "(4626, 27)\n",
      "(4673, 27)\n"
     ]
    }
   ],
   "source": [
    "jul_2024 = pd.read_csv(stars_dir + '2024/2024-07 Stars Release/SAS_CSV_output/CMS_Stars_Jul_2024.csv')\n"
   ]
  }
 ],
 "metadata": {
  "kernelspec": {
   "display_name": "Python 3 (ipykernel)",
   "language": "python",
   "name": "python3"
  },
  "language_info": {
   "codemirror_mode": {
    "name": "ipython",
    "version": 3
   },
   "file_extension": ".py",
   "mimetype": "text/x-python",
   "name": "python",
   "nbconvert_exporter": "python",
   "pygments_lexer": "ipython3",
   "version": "3.8.0"
  }
 },
 "nbformat": 4,
 "nbformat_minor": 5
}
